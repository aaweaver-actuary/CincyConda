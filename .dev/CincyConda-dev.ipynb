{
 "cells": [
  {
   "cell_type": "code",
   "execution_count": 54,
   "metadata": {},
   "outputs": [],
   "source": [
    "import sys\n",
    "import os\n",
    "import subprocess\n",
    "from collections import namedtuple\n",
    "from typing import List, Union, Optional, Tuple, Dict, Any\n",
    "\n",
    "# from _get_cincyconda_doc import get_docstring\n",
    "\n",
    "CONDA_INSTALL_PATH = \"/rsystem/Rapps/anaconda310/bin/conda\"\n",
    "\n",
    "class CondaEnv:\n",
    "    def __init__(self,\n",
    "                 name: str = \".env\",\n",
    "                 path: str = None,\n",
    "                 packages: list = None,\n",
    "                 conda_install_path: str = CONDA_INSTALL_PATH,\n",
    "                 shell: str = 'bash',\n",
    "                 channel_alias: str = None,\n",
    "                 ):\n",
    "        self.name = name\n",
    "        self.path = path\n",
    "        self.packages = packages\n",
    "        self.conda = conda_install_path\n",
    "        self.shell = shell\n",
    "        self.channel_alias = channel_alias\n",
    "\n",
    "        self.conda_envs = None\n",
    "\n",
    "    def __post_init__(self):\n",
    "        # if the base env is not activated, activate it\n",
    "        self._activate_base()\n",
    "\n",
    "        # if jupyter, notebook, ipykernel are not passed in, add them\n",
    "        if 'jupyter' not in self.packages:\n",
    "            self.packages.append('jupyter')\n",
    "        if 'notebook' not in self.packages:\n",
    "            self.packages.append('notebook')\n",
    "        if 'ipykernel' not in self.packages:\n",
    "            self.packages.append('ipykernel')\n",
    "\n",
    "        \n",
    "\n",
    "    def __str__(self):\n",
    "        return f\"CondaEnv({self.name})\"\n",
    "\n",
    "    def __repr__(self):\n",
    "        return f\"CondaEnv({self.name})\"\n",
    "\n",
    "    def _activate_base(self):\n",
    "        # if the base env is not activated, activate it\n",
    "        # there is no CONDA_DEFAULT_ENV available\n",
    "        # so we have to check the path\n",
    "        assert hasattr(self, 'conda'), \\\n",
    "            f\"conda_install_path is not set. Please set it to the path of your conda \\\n",
    "                installation. Try '{CONDA_INSTALL_PATH}'\"\n",
    "        assert hasattr(sys, 'base_prefix'), \\\n",
    "            f\"sys.base_prefix: '{sys.base_prefix}' is not set\"\n",
    "\n",
    "        os.system(f\"{self.conda} activate base\")\n",
    "\n",
    "    def Setup(self):\n",
    "        \"\"\"\n",
    "        Does the unique setup steps for setting up anaconda on the jupyterhub server.\n",
    "        \"\"\"\n",
    "        # initialize conda in the user's shell\n",
    "        self.init(help=False)\n",
    "\n",
    "        # close and re-open the shell\n",
    "        subprocess.run([f'{self.shell}', '-c', 'exit'])\n",
    "\n",
    "        # list the commands to run\n",
    "        cmd = [\n",
    "            # clear the conda cache and channel list\n",
    "            f\"{self.conda} clean --all\",\n",
    "\n",
    "            # add the CIC repo\n",
    "            f\"{self.conda} config --set channel_alias {self.channel_alias}/repo\",\n",
    "\n",
    "            # add the restricted_channel to default channels\n",
    "            f\"{self.conda} config --prepend channels default_channels restricted_channel\",\n",
    "\n",
    "            # add the CIC repo to the default channels\n",
    "            f\"{self.conda} repo config --set sites.anaconda.url {self.channel_alias}\",\n",
    "\n",
    "            # set anaconda to be the default site\n",
    "            f\"{self.conda} repo config --set default_site anaconda\",\n",
    "\n",
    "            # log in\n",
    "            f\"{self.conda} repo login\"\n",
    "        ]\n",
    "\n",
    "        # loop through the commands and run them\n",
    "        for c in cmd:\n",
    "            subprocess.run(c.split())\n",
    "\n",
    "    def Init(self,\n",
    "             help: bool = False) -> None:\n",
    "        \"\"\"\n",
    "        Initializes conda in the user's shell\n",
    "\n",
    "        Parameters\n",
    "        ----------\n",
    "        shell : str, optional\n",
    "            The shell to initialize conda in, by default 'bash'\n",
    "        help : bool, optional\n",
    "            Whether to print the help message, by default False\n",
    "\n",
    "        Returns\n",
    "        -------\n",
    "        None\n",
    "\n",
    "        Raises\n",
    "        ------\n",
    "        AssertionError\n",
    "            If the shell is not supported\n",
    "\n",
    "        Example Usage\n",
    "        -------------\n",
    "        >>> from CincyConda import CondaEnv\n",
    "        >>> env = CondaEnv(name='test', packages=['numpy', 'pandas'])\n",
    "        >>> env.init(shell='bash')\n",
    "        \n",
    "        >>> # expected output:\n",
    "        >>> #  ==> For changes to take effect, close and re-open your current shell. <==\n",
    "        >>> #  ==> If you'd prefer that conda's base environment not be activated on startup,\n",
    "        >>> #      set the auto_activate_base parameter to false: <==\n",
    "        >>> #  conda config --set auto_activate_base false\n",
    "        \"\"\"\n",
    "        # check the shell input\n",
    "        assert self.shell in ['bash', 'zsh', 'fish', 'powershell', 'xonsh'], \\\n",
    "            f\"shell: '{self.shell}' is not supported. Please use one of the following: \\\n",
    "             ['bash', 'zsh', 'fish', 'powershell', 'xonsh']\"\n",
    "\n",
    "        if help:\n",
    "            msg = os.system(f\"{self.conda} init --help\")\n",
    "        else:\n",
    "            msg = os.system(f\"{self.conda} init {self.shell}\")\n",
    "\n",
    "        print(msg)\n",
    "\n",
    "    def Create(self,\n",
    "               help:bool = False) -> None:\n",
    "        # create the env\n",
    "        os.system(f\"{self.conda} create --prefix {self.path} -y {' '.join(self.packages)}\")\n",
    "\n",
    "        # create the kernel\n",
    "        os.system(f\"python -m ipykernel install --user --name {self.name} --display-name {self.name}\")\n",
    "\n",
    "        # if the base env is not activated, activate it\n",
    "        self._activate_base()\n",
    "\n",
    "    def Remove(self, env:CondaEnvs):\n",
    "        \n",
    "\n",
    "    def update(self, package):\n",
    "        # if the base env is not activated, activate it\n",
    "        self._activate_base()\n",
    "\n",
    "        # update the env\n",
    "        os.system(f\"{self.conda} update --prefix {self.path} {package} -y\")\n",
    "\n",
    "        # if the base env is not activated, activate it\n",
    "        self._activate_base()\n",
    "\n",
    "    def install(self, package):\n",
    "        # if the base env is not activated, activate it\n",
    "        self._activate_base()\n",
    "\n",
    "        # install the package\n",
    "        os.system(f\"{self.conda} install --prefix {self.path} {package} -y\")\n",
    "\n",
    "        # if the base env is not activated, activate it\n",
    "        self._activate_base()\n",
    "\n",
    "    def _all_envs(self) -> list:\n",
    "        \"\"\"\n",
    "        Returns the available conda environments in a python list\n",
    "\n",
    "        Parameters\n",
    "        ----------\n",
    "        name : str\n",
    "            The name of the conda environment to return\n",
    "\n",
    "        Returns\n",
    "        -------\n",
    "        list\n",
    "            A list of available conda environments\n",
    "\n",
    "        Raises\n",
    "        ------\n",
    "        AssertionError\n",
    "            If the name is not a string\n",
    "        AssertionError\n",
    "            If the name is not in the list of available conda environments, and is\n",
    "            not a substring of any of the available conda environment names or paths\n",
    "\n",
    "        \"\"\"\n",
    "        # get the envs\n",
    "        # envs = os.system(f\"{self.conda} env list\")\n",
    "\n",
    "        if self.conda_envs is not None:\n",
    "            return self.conda_envs\n",
    "        else:\n",
    "            envs = subprocess.run([f\"{self.conda}\", \"env\", \"list\"],\n",
    "                                  stdout=subprocess.PIPE,\n",
    "                                  stderr=subprocess.PIPE)\n",
    "\n",
    "            # convert to a list\n",
    "            if envs.returncode != 0:\n",
    "                print(f\"Error executing command: {envs.stderr.decode('utf-8')}\")\n",
    "                return []\n",
    "            else:\n",
    "                self.conda_envs = namedtuple('CondaEnvs', ['name', 'path'])   \n",
    "                output = []\n",
    "                for line in envs.stdout.decode('utf-8').splitlines()[2:]:\n",
    "                    env_name = line.split()\n",
    "                    env_path = line.split()\n",
    "                    output.append(self.conda_envs(env_name, env_path))\n",
    "            self.conda_envs = output\n",
    "            return output\n",
    "\n",
    "    \n",
    "\n",
    "    def env(self,\n",
    "            name: str = None) -> Union[list, str]:\n",
    "        \"\"\"\n",
    "        Returns the available conda environments in a python list\n",
    "\n",
    "        Parameters\n",
    "        ----------\n",
    "        name : str\n",
    "            The name of the conda environment to return\n",
    "\n",
    "        Returns\n",
    "        -------\n",
    "        list\n",
    "            A list of available conda environments\n",
    "\n",
    "        Raises\n",
    "        ------\n",
    "        AssertionError\n",
    "            If the name is not a string\n",
    "        AssertionError\n",
    "            If the name is not in the list of available conda environments, and is\n",
    "            not a substring of any of the available conda environment names or paths\n",
    "\n",
    "        \"\"\"\n",
    "        # get the envs\n",
    "        envs = self._all_envs()\n",
    "\n",
    "        # if no name is provided, return all envs\n",
    "        if name is None:\n",
    "            return envs\n",
    "\n",
    "        # if a name is provided, make sure it is a string\n",
    "        assert isinstance(name, str), \\\n",
    "            f\"name must be a string, not {type(name)}\"\n",
    "        \n",
    "        # if the name is in the list of CondaEnvs objects, return it\n",
    "        if name in [env.name for env in envs]:\n",
    "            return [env for env in envs if env.name == name][0]\n",
    "        \n",
    "        # if the name is not in the list of CondaEnvs objects, check if it is a substring\n",
    "        # of any of the names first, then the paths\n",
    "        elif name not in [env.name for env in envs]:\n",
    "            envs = [env for env in envs if name in env.name]\n",
    "            if len(envs) == 1:\n",
    "                return envs[0]\n",
    "            elif len(envs) > 1:\n",
    "                return envs\n",
    "            else:\n",
    "                envs = [env for env in envs if name in env.path]\n",
    "                if len(envs) == 1:\n",
    "                    return envs[0]\n",
    "                elif len(envs) > 1:\n",
    "                    return envs\n",
    "                else:\n",
    "                    raise AssertionError(f\"Could not find environment: {name}\")"
   ]
  },
  {
   "cell_type": "code",
   "execution_count": 55,
   "metadata": {},
   "outputs": [
    {
     "data": {
      "text/plain": [
       "[CondaEnvs(name=['/rdata/aweaver'], path=['/rdata/aweaver']),\n",
       " CondaEnvs(name=['/rdata/aweaver/hitratio/.env'], path=['/rdata/aweaver/hitratio/.env']),\n",
       " CondaEnvs(name=['base', '/rsystem/Rapps/anaconda310'], path=['base', '/rsystem/Rapps/anaconda310']),\n",
       " CondaEnvs(name=[], path=[])]"
      ]
     },
     "execution_count": 55,
     "metadata": {},
     "output_type": "execute_result"
    }
   ],
   "source": [
    "c = CondaEnv()\n",
    "c.env()"
   ]
  },
  {
   "cell_type": "code",
   "execution_count": 58,
   "metadata": {},
   "outputs": [
    {
     "data": {
      "text/plain": [
       "['base', '/rsystem/Rapps/anaconda310']"
      ]
     },
     "execution_count": 58,
     "metadata": {},
     "output_type": "execute_result"
    }
   ],
   "source": [
    "c.env('base').path"
   ]
  },
  {
   "cell_type": "code",
   "execution_count": 5,
   "metadata": {},
   "outputs": [
    {
     "data": {
      "text/plain": [
       "'/rdata/aweaver'"
      ]
     },
     "execution_count": 5,
     "metadata": {},
     "output_type": "execute_result"
    }
   ],
   "source": [
    "os.getcwd()"
   ]
  },
  {
   "cell_type": "code",
   "execution_count": 10,
   "metadata": {},
   "outputs": [
    {
     "name": "stdout",
     "output_type": "stream",
     "text": [
      "# conda environments:\n",
      "#\n",
      "                         /rdata/aweaver\n",
      "                         /rdata/aweaver/hitratio/.env\n",
      "base                     /rsystem/Rapps/anaconda310\n",
      "\n",
      "0\n"
     ]
    }
   ],
   "source": [
    "print(c.env())"
   ]
  },
  {
   "cell_type": "code",
   "execution_count": 12,
   "metadata": {},
   "outputs": [
    {
     "data": {
      "text/plain": [
       "False"
      ]
     },
     "execution_count": 12,
     "metadata": {},
     "output_type": "execute_result"
    }
   ],
   "source": [
    "import sys\n",
    "hasattr(sys, 'real_prefix')"
   ]
  },
  {
   "cell_type": "code",
   "execution_count": 13,
   "metadata": {},
   "outputs": [
    {
     "data": {
      "text/plain": [
       "True"
      ]
     },
     "execution_count": 13,
     "metadata": {},
     "output_type": "execute_result"
    }
   ],
   "source": [
    "hasattr(sys, 'base_prefix')"
   ]
  },
  {
   "cell_type": "code",
   "execution_count": 16,
   "metadata": {},
   "outputs": [
    {
     "data": {
      "text/plain": [
       "'/rdata/aweaver/EGSB/aw/aw-env'"
      ]
     },
     "execution_count": 16,
     "metadata": {},
     "output_type": "execute_result"
    }
   ],
   "source": [
    "sys.prefix"
   ]
  },
  {
   "cell_type": "code",
   "execution_count": 15,
   "metadata": {},
   "outputs": [
    {
     "data": {
      "text/plain": [
       "'/rdata/aweaver/EGSB/aw/aw-env'"
      ]
     },
     "execution_count": 15,
     "metadata": {},
     "output_type": "execute_result"
    }
   ],
   "source": [
    "sys.base_prefix"
   ]
  },
  {
   "cell_type": "code",
   "execution_count": 19,
   "metadata": {},
   "outputs": [
    {
     "name": "stdout",
     "output_type": "stream",
     "text": [
      "# conda environments:\n",
      "#\n",
      "                         /rdata/aweaver\n",
      "                         /rdata/aweaver/hitratio/.env\n",
      "base                     /rsystem/Rapps/anaconda310\n",
      "\n"
     ]
    },
    {
     "name": "stderr",
     "output_type": "stream",
     "text": [
      "\n",
      "CommandNotFoundError: Your shell has not been properly configured to use 'conda activate'.\n",
      "To initialize your shell, run\n",
      "\n",
      "    $ conda init <SHELL_NAME>\n",
      "\n",
      "Currently supported shells are:\n",
      "  - bash\n",
      "  - fish\n",
      "  - tcsh\n",
      "  - xonsh\n",
      "  - zsh\n",
      "  - powershell\n",
      "\n",
      "See 'conda init --help' for more information and options.\n",
      "\n",
      "IMPORTANT: You may need to close and restart your shell after running 'conda init'.\n",
      "\n",
      "\n",
      "\n",
      "CommandNotFoundError: Your shell has not been properly configured to use 'conda activate'.\n",
      "To initialize your shell, run\n",
      "\n",
      "    $ conda init <SHELL_NAME>\n",
      "\n",
      "Currently supported shells are:\n",
      "  - bash\n",
      "  - fish\n",
      "  - tcsh\n",
      "  - xonsh\n",
      "  - zsh\n",
      "  - powershell\n",
      "\n",
      "See 'conda init --help' for more information and options.\n",
      "\n",
      "IMPORTANT: You may need to close and restart your shell after running 'conda init'.\n",
      "\n",
      "\n"
     ]
    },
    {
     "data": {
      "text/plain": [
       "'# conda environments:\\n#\\n                         /rdata/aweaver\\n                         /rdata/aweaver/hitratio/.env\\nbase                     /rsystem/Rapps/anaconda310\\n\\n'"
      ]
     },
     "execution_count": 19,
     "metadata": {},
     "output_type": "execute_result"
    }
   ],
   "source": [
    "c = CondaEnv()\n",
    "os.system(f\"{c.conda} env list\")\n",
    "c.env()"
   ]
  }
 ],
 "metadata": {
  "kernelspec": {
   "display_name": "anaconda_202111",
   "language": "python",
   "name": "anaconda_202111"
  },
  "language_info": {
   "codemirror_mode": {
    "name": "ipython",
    "version": 3
   },
   "file_extension": ".py",
   "mimetype": "text/x-python",
   "name": "python",
   "nbconvert_exporter": "python",
   "pygments_lexer": "ipython3",
   "version": "3.9.7"
  },
  "orig_nbformat": 4
 },
 "nbformat": 4,
 "nbformat_minor": 2
}
